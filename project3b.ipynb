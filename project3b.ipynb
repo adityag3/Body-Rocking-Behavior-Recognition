{
 "cells": [
  {
   "cell_type": "code",
   "execution_count": 1,
   "metadata": {
    "scrolled": true
   },
   "outputs": [
    {
     "name": "stderr",
     "output_type": "stream",
     "text": [
      "/anaconda3/lib/python3.6/site-packages/h5py/__init__.py:36: FutureWarning: Conversion of the second argument of issubdtype from `float` to `np.floating` is deprecated. In future, it will be treated as `np.float64 == np.dtype(float).type`.\n",
      "  from ._conv import register_converters as _register_converters\n",
      "Using TensorFlow backend.\n"
     ]
    }
   ],
   "source": [
    "import os\n",
    "import sys\n",
    "import time\n",
    "import warnings\n",
    "from random import shuffle\n",
    "\n",
    "import numpy as np\n",
    "import pandas as pd\n",
    "from keras.callbacks import ModelCheckpoint, EarlyStopping\n",
    "from keras.optimizers import Adam\n",
    "from tensorflow.python.lib.io import file_io\n",
    "import numpy as np\n",
    "import keras\n",
    "from keras import backend as K\n",
    "from keras.models import Sequential\n",
    "from scipy.stats import kurtosis, skew\n",
    "warnings.filterwarnings(\"ignore\")"
   ]
  },
  {
   "cell_type": "code",
   "execution_count": 2,
   "metadata": {},
   "outputs": [],
   "source": [
    "from keras.layers import Conv2DTranspose, Dropout, Activation, BatchNormalization, UpSampling2D, Concatenate\n",
    "from keras.layers import Input, Conv1D, MaxPooling1D, concatenate, TimeDistributed, Flatten, LSTM, Dense, GlobalAveragePooling1D\n",
    "from keras.models import Model"
   ]
  },
  {
   "cell_type": "code",
   "execution_count": 3,
   "metadata": {},
   "outputs": [],
   "source": [
    "# Window Length.\n",
    "n = 100\n",
    "STRIDE = 50"
   ]
  },
  {
   "cell_type": "code",
   "execution_count": 4,
   "metadata": {},
   "outputs": [],
   "source": [
    "def getFeatures(data, fs):\n",
    "    f1 = np.mean(data, axis=0)\n",
    "    C = np.cov(data.T)\n",
    "    f2 = np.concatenate((C[0, 0:3], C[1, 1:3], C[2, 2:3]))\n",
    "    f3 = np.array([skew(data.iloc[:, 0]), skew(data.iloc[:, 1]), skew(data.iloc[:, 2])])\n",
    "    f4 = np.array([kurtosis(data.iloc[:, 0]), kurtosis(data.iloc[:, 1]), kurtosis(data.iloc[:, 2])])\n",
    "    f5 = np.zeros(3)\n",
    "    f6 = np.zeros(3)\n",
    "    for i in range(0,3):\n",
    "        g = abs(np.fft.fft(data.iloc[:,i]))\n",
    "        g = g[0:round(len(g)/2)]\n",
    "        g[0] = 0\n",
    "        max_i = np.argmax(g)\n",
    "        f5[i] = g[max_i]\n",
    "        f6[i] = fs * max_i\n",
    "    return np.concatenate((f1, f2, f3, f4, f5, f6))"
   ]
  },
  {
   "cell_type": "code",
   "execution_count": 5,
   "metadata": {},
   "outputs": [],
   "source": [
    "def generate_features(df, stride=STRIDE):\n",
    "    df_out = pd.DataFrame(columns=[i for i in range(0, 42)])\n",
    "    fs = 1 / n\n",
    "    i = 0\n",
    "    for i in range(0, df.shape[0] - n, stride):\n",
    "        features_accel = getFeatures(df.iloc[i:i+n, 0:3], fs)\n",
    "        features_gyro = getFeatures(df.iloc[i:i+n, 3:6], fs)\n",
    "        features = np.concatenate((features_accel, features_gyro))\n",
    "        df_out.loc[i] = features\n",
    "        i += 1\n",
    "    return df_out"
   ]
  },
  {
   "cell_type": "code",
   "execution_count": 6,
   "metadata": {},
   "outputs": [],
   "source": [
    "# Choose via MODE ## TBD ##\n",
    "def get_detection_window(df, stride=STRIDE):\n",
    "    df_out = pd.DataFrame(columns=[0])\n",
    "    i = 0\n",
    "    for i in range(0, df.shape[0] - n, stride):\n",
    "        df_slice = df.iloc[i:i+n,:]\n",
    "        df_out.loc[i] = df_slice.mode().iloc[0,0]\n",
    "#         df_out.loc[i] = df.iloc[i+n-1]\n",
    "        i += 1\n",
    "    return df_out"
   ]
  },
  {
   "cell_type": "code",
   "execution_count": 7,
   "metadata": {},
   "outputs": [],
   "source": [
    "def extrapolate_predictions(predictions, size):\n",
    "    extrapolated = np.fromiter((val for val in predictions for _ in range(0, STRIDE)), float)\n",
    "    return extrapolated[0:size]"
   ]
  },
  {
   "cell_type": "code",
   "execution_count": 8,
   "metadata": {
    "scrolled": true
   },
   "outputs": [
    {
     "name": "stdout",
     "output_type": "stream",
     "text": [
      "Processing training Session01\n",
      "Processing training Session02\n",
      "Processing training Session03\n",
      "Processing training Session05\n",
      "Processing training Session06\n",
      "Processing training Session07\n",
      "Processing training Session12\n",
      "Processing training Session13\n",
      "Processing training Session15\n",
      "1278577\n",
      "25558\n",
      "Saved training features!\n",
      "Saved validation features!\n"
     ]
    }
   ],
   "source": [
    "# Initializing dataframes for training and validation.\n",
    "x_train = pd.DataFrame(columns=[i for i in range(0, 12)])\n",
    "y_train = pd.DataFrame(columns=[0])\n",
    "x_val = pd.DataFrame(columns=[i for i in range(0, 12)])\n",
    "y_val = pd.DataFrame(columns=[0])\n",
    "\n",
    "train_sessions = ['Session01', 'Session02', 'Session03', 'Session05', 'Session06', 'Session07', 'Session12', 'Session13', 'Session15']\n",
    "\n",
    "count = 0\n",
    "count_res = 0\n",
    "for session in train_sessions:\n",
    "    print('Processing training {}'.format(session))\n",
    "    df_data_arm = pd.read_csv('TrainingDataB/{}/armIMU.txt'.format(session),  delim_whitespace=True, header=None)\n",
    "    arm_features = generate_features(df_data_arm)\n",
    "    df_data_wrist = pd.read_csv('TrainingDataB/{}/wristIMU.txt'.format(session), delim_whitespace=True, header=None)\n",
    "    wrist_features = generate_features(df_data_wrist)\n",
    "    count += df_data_arm.shape[0]\n",
    "    features = pd.concat([arm_features, wrist_features], axis=1, sort=False, ignore_index=True)\n",
    "    count_res += features.shape[0]\n",
    "    df_data_detection = pd.read_csv('TrainingDataB/{}/detection.txt'.format(session), header=None)\n",
    "    x_train = x_train.append(other=features, ignore_index=True)\n",
    "    y_train = y_train.append(other=get_detection_window(df_data_detection), ignore_index=True)\n",
    "print(count)\n",
    "print(count_res)\n",
    "x_train.to_csv('x_train.txt', header=False, index=False, sep='\\t')\n",
    "y_train.to_csv('y_train.txt', header=False, index=False, sep='\\t')\n",
    "print('Saved training features!')\n",
    "    \n",
    "val_sessions = ['Session16']\n",
    "for session in val_sessions:\n",
    "    df_data_arm = pd.read_csv('TrainingDataB/{}/armIMU.txt'.format(session),  delim_whitespace=True, header=None)\n",
    "    arm_features = generate_features(df_data_arm)\n",
    "    df_data_wrist = pd.read_csv('TrainingDataB/{}/wristIMU.txt'.format(session), delim_whitespace=True, header=None)\n",
    "    wrist_features = generate_features(df_data_wrist)\n",
    "    count += df_data_arm.shape[0]\n",
    "    features = pd.concat([arm_features, wrist_features], axis=1, sort=False, ignore_index=True)\n",
    "    count_res += features.shape[0]\n",
    "    df_data_detection = pd.read_csv('TrainingDataB/{}/detection.txt'.format(session), header=None)\n",
    "    x_val = x_val.append(other=features, ignore_index=True)\n",
    "    y_val = y_val.append(other=get_detection_window(df_data_detection), ignore_index=True)\n",
    "    \n",
    "x_val.to_csv('x_val.txt', header=False, index=False, sep='\\t')\n",
    "y_val.to_csv('y_val.txt', header=False, index=False, sep='\\t')\n",
    "print('Saved validation features!')"
   ]
  },
  {
   "cell_type": "code",
   "execution_count": 9,
   "metadata": {},
   "outputs": [],
   "source": [
    "x_train_df = np.loadtxt('x_train.txt', delimiter='\\t')\n",
    "y_train_df = np.loadtxt('y_train.txt', delimiter='\\t')\n",
    "x_val_df = np.loadtxt('x_val.txt', delimiter='\\t')\n",
    "y_val_df = np.loadtxt('y_val.txt', delimiter='\\t')"
   ]
  },
  {
   "cell_type": "code",
   "execution_count": 10,
   "metadata": {},
   "outputs": [],
   "source": [
    "X_train_reshaped = np.reshape(x_train_df, (x_train_df.shape[0], 1, x_train_df.shape[1]))\n",
    "X_val_reshaped = np.reshape(x_val_df, (x_val_df.shape[0], 1, x_val_df.shape[1]))"
   ]
  },
  {
   "cell_type": "code",
   "execution_count": 11,
   "metadata": {},
   "outputs": [
    {
     "name": "stdout",
     "output_type": "stream",
     "text": [
      "(1766, 1, 84)\n",
      "(1766,)\n",
      "(25558, 1, 84)\n",
      "(25558,)\n"
     ]
    }
   ],
   "source": [
    "print(X_val_reshaped.shape)\n",
    "print(y_val_df.shape)\n",
    "\n",
    "print(X_train_reshaped.shape)\n",
    "print(y_train_df.shape)"
   ]
  },
  {
   "cell_type": "markdown",
   "metadata": {},
   "source": [
    "## Build model"
   ]
  },
  {
   "cell_type": "code",
   "execution_count": 12,
   "metadata": {},
   "outputs": [],
   "source": [
    "data_dim = 84\n",
    "timesteps = 1\n",
    "batch_size = 100"
   ]
  },
  {
   "cell_type": "code",
   "execution_count": 13,
   "metadata": {},
   "outputs": [],
   "source": [
    "model = Sequential()\n",
    "model.add(Conv1D(nb_filter=20, filter_length=1, padding='same', input_shape=(1, 84)))\n",
    "model.add(LSTM(50, batch_input_shape=(batch_size, timesteps, data_dim)))\n",
    "model.add(Dense(1, activation='sigmoid'))\n",
    "model.add(BatchNormalization())\n",
    "model.add(Activation('sigmoid'))"
   ]
  },
  {
   "cell_type": "code",
   "execution_count": 15,
   "metadata": {},
   "outputs": [],
   "source": [
    "model.compile(loss='binary_crossentropy',\n",
    "              optimizer='adam',\n",
    "              metrics=['accuracy'])"
   ]
  },
  {
   "cell_type": "code",
   "execution_count": 16,
   "metadata": {},
   "outputs": [],
   "source": [
    "# define the checkpoint\n",
    "filepath = \"model.h5\"\n",
    "checkpoint = ModelCheckpoint(filepath, monitor='loss', verbose=1, save_best_only=True, mode='min')\n",
    "callbacks_list = [checkpoint]"
   ]
  },
  {
   "cell_type": "markdown",
   "metadata": {},
   "source": [
    "## Training"
   ]
  },
  {
   "cell_type": "code",
   "execution_count": 18,
   "metadata": {},
   "outputs": [
    {
     "name": "stdout",
     "output_type": "stream",
     "text": [
      "Train on 25558 samples, validate on 1766 samples\n",
      "Epoch 1/10\n",
      "25558/25558 [==============================] - 1s 49us/step - loss: 0.3720 - acc: 0.8399 - val_loss: 0.4750 - val_acc: 0.8001\n",
      "\n",
      "Epoch 00001: loss improved from 0.38905 to 0.37195, saving model to model.h5\n",
      "Epoch 2/10\n",
      "25558/25558 [==============================] - 1s 50us/step - loss: 0.3584 - acc: 0.8438 - val_loss: 0.4990 - val_acc: 0.7673\n",
      "\n",
      "Epoch 00002: loss improved from 0.37195 to 0.35837, saving model to model.h5\n",
      "Epoch 3/10\n",
      "25558/25558 [==============================] - 1s 49us/step - loss: 0.3551 - acc: 0.8435 - val_loss: 0.5000 - val_acc: 0.7627\n",
      "\n",
      "Epoch 00003: loss improved from 0.35837 to 0.35506, saving model to model.h5\n",
      "Epoch 4/10\n",
      "25558/25558 [==============================] - 1s 54us/step - loss: 0.3550 - acc: 0.8443 - val_loss: 0.4429 - val_acc: 0.8171\n",
      "\n",
      "Epoch 00004: loss improved from 0.35506 to 0.35498, saving model to model.h5\n",
      "Epoch 5/10\n",
      "25558/25558 [==============================] - 1s 51us/step - loss: 0.3563 - acc: 0.8391 - val_loss: 0.5628 - val_acc: 0.6869\n",
      "\n",
      "Epoch 00005: loss did not improve from 0.35498\n",
      "Epoch 6/10\n",
      "25558/25558 [==============================] - 1s 49us/step - loss: 0.3464 - acc: 0.8466 - val_loss: 0.6070 - val_acc: 0.6586\n",
      "\n",
      "Epoch 00006: loss improved from 0.35498 to 0.34645, saving model to model.h5\n",
      "Epoch 7/10\n",
      "25558/25558 [==============================] - 1s 50us/step - loss: 0.3435 - acc: 0.8478 - val_loss: 0.4963 - val_acc: 0.7661\n",
      "\n",
      "Epoch 00007: loss improved from 0.34645 to 0.34349, saving model to model.h5\n",
      "Epoch 8/10\n",
      "25558/25558 [==============================] - 1s 57us/step - loss: 0.3415 - acc: 0.8477 - val_loss: 0.4519 - val_acc: 0.7894\n",
      "\n",
      "Epoch 00008: loss improved from 0.34349 to 0.34146, saving model to model.h5\n",
      "Epoch 9/10\n",
      "25558/25558 [==============================] - 1s 54us/step - loss: 0.3407 - acc: 0.8459 - val_loss: 0.4781 - val_acc: 0.7746\n",
      "\n",
      "Epoch 00009: loss improved from 0.34146 to 0.34073, saving model to model.h5\n",
      "Epoch 10/10\n",
      "25558/25558 [==============================] - 1s 51us/step - loss: 0.3400 - acc: 0.8499 - val_loss: 0.4815 - val_acc: 0.7599\n",
      "\n",
      "Epoch 00010: loss improved from 0.34073 to 0.34005, saving model to model.h5\n"
     ]
    }
   ],
   "source": [
    "history = model.fit(X_train_reshaped, y_train_df, batch_size=100, epochs=10, validation_data=(X_val_reshaped, y_val_df), callbacks=callbacks_list)\n"
   ]
  },
  {
   "cell_type": "code",
   "execution_count": 19,
   "metadata": {},
   "outputs": [
    {
     "name": "stdout",
     "output_type": "stream",
     "text": [
      "1766/1766 [==============================] - 2s 1ms/step\n",
      "[('loss', 0.481455422177413), ('acc', 0.7599093997734995)]\n"
     ]
    }
   ],
   "source": [
    "score = model.evaluate(X_val_reshaped, y_val_df, batch_size=1)\n",
    "print(list(zip(model.metrics_names,score)))"
   ]
  },
  {
   "cell_type": "code",
   "execution_count": 22,
   "metadata": {},
   "outputs": [
    {
     "data": {
      "image/png": "[encoded data removed]",
      "text/plain": [
       "<matplotlib.figure.Figure at 0x1a2949b668>"
      ]
     },
     "metadata": {},
     "output_type": "display_data"
    }
   ],
   "source": [
    "import matplotlib.pyplot as plt\n",
    "# summarize history for accuracy\n",
    "plt.plot(history.history['acc'])\n",
    "plt.plot(history.history['val_acc'])\n",
    "plt.title('Model accuracy')\n",
    "plt.ylabel('Accuracy')\n",
    "plt.xlabel('Epoch')\n",
    "plt.legend(['Train', 'Validate'], loc='upper left')\n",
    "# plt.show()\n",
    "plt.savefig('acc.png')"
   ]
  },
  {
   "cell_type": "code",
   "execution_count": 23,
   "metadata": {},
   "outputs": [
    {
     "data": {
      "image/png": "[encoded data removed]",
      "text/plain": [
       "<matplotlib.figure.Figure at 0x1a295e0208>"
      ]
     },
     "metadata": {},
     "output_type": "display_data"
    }
   ],
   "source": [
    "# summarize history for loss\n",
    "plt.plot(history.history['loss'])\n",
    "plt.plot(history.history['val_loss'])\n",
    "plt.title('Model loss')\n",
    "plt.ylabel('Loss')\n",
    "plt.xlabel('Epoch')\n",
    "plt.legend(['Train', 'Validate'], loc='upper left')\n",
    "# plt.show()\n",
    "plt.savefig('loss.png')"
   ]
  },
  {
   "cell_type": "code",
   "execution_count": 24,
   "metadata": {},
   "outputs": [],
   "source": [
    "def read_test_data(session):\n",
    "    df_data_arm = pd.read_csv('TestData2/{}/armIMU.txt'.format(session), delim_whitespace=True, header=None)\n",
    "    size = df_data_arm.shape[0]\n",
    "    arm_features = generate_features(df_data_arm)\n",
    "    df_data_wrist = pd.read_csv('TestData2/{}/wristIMU.txt'.format(session), delim_whitespace=True, header=None)\n",
    "    wrist_features = generate_features(df_data_wrist)\n",
    "    return size, pd.concat([arm_features, wrist_features], axis=1, sort=False, ignore_index=True)"
   ]
  },
  {
   "cell_type": "code",
   "execution_count": 26,
   "metadata": {},
   "outputs": [
    {
     "name": "stdout",
     "output_type": "stream",
     "text": [
      "Load this model: model.h5\n",
      "Predicting this session: Session08\n",
      "Debug 1\n",
      "2793/2793 [==============================] - 0s 151us/step\n",
      "Debug 2\n",
      "Debug 3\n",
      "Finished\n",
      "Predicting this session: Session09\n",
      "Debug 1\n",
      "3755/3755 [==============================] - 0s 35us/step\n",
      "Debug 2\n",
      "Debug 3\n",
      "Finished\n",
      "Predicting this session: Session11\n",
      "Debug 1\n",
      "1610/1610 [==============================] - 0s 47us/step\n",
      "Debug 2\n",
      "Debug 3\n",
      "Finished\n",
      "Predicting this session: Session17\n",
      "Debug 1\n",
      "3356/3356 [==============================] - 0s 37us/step\n",
      "Debug 2\n",
      "Debug 3\n",
      "Finished\n"
     ]
    }
   ],
   "source": [
    "# Prediction\n",
    "from keras.models import load_model\n",
    "test_sessions = ['Session08', 'Session09', 'Session11', 'Session17']\n",
    "\n",
    "model_filename = 'model.h5'\n",
    "print(\"Load this model: {}\".format(model_filename))\n",
    "loaded_model = load_model(model_filename)\n",
    "for session in test_sessions:\n",
    "    print(\"Predicting this session: {}\".format(session))\n",
    "    size, x_test = read_test_data(session)\n",
    "    x_test.to_csv('{}_x_test.txt'.format(session), header=False, index=False, sep='\\t')\n",
    "    x_test_df = np.loadtxt('{}_x_test.txt'.format(session), delimiter='\\t')\n",
    "    X_test_reshaped = np.reshape(x_test_df, (x_test_df.shape[0], 1, x_test_df.shape[1]))\n",
    "    print(\"Debug 1\")\n",
    "    predictions = loaded_model.predict_classes(X_test_reshaped, verbose=1)\n",
    "    print(\"Debug 2\")\n",
    "    predictions = extrapolate_predictions(predictions, size)\n",
    "    print(\"Debug 3\")\n",
    "    directory = 'prediction3b/{}'.format(session)\n",
    "    if not os.path.exists(directory):\n",
    "        os.makedirs(directory)\n",
    "    filename = os.path.join(directory, 'prediction.txt')\n",
    "    np.savetxt(filename, predictions, delimiter=\"\\n\")\n",
    "    print(\"Finished\")\n",
    "    "
   ]
  },
  {
   "cell_type": "code",
   "execution_count": null,
   "metadata": {},
   "outputs": [],
   "source": [
    "print(\"Predicting this session: {}\".format(session))\n",
    "size, x_test = read_test_data(session)\n",
    "x_test.to_csv('{}_x_test.txt'.format(session), header=False, index=False, sep='\\t')\n",
    "x_test_df = np.loadtxt('{}_x_test.txt'.format(session), delimiter='\\t')\n",
    "X_test_reshaped = np.reshape(x_test_df, (x_test_df.shape[0], 1, x_test_df.shape[1]))\n",
    "print(\"Debug 1\")\n",
    "predictions = loaded_model.predict_classes(X_test_reshaped, verbose=1)\n",
    "print(\"Debug 2\")\n",
    "predictions = extrapolate_predictions(predictions, size)\n",
    "print(\"Debug 3\")\n",
    "directory = 'prediction3b/{}'.format(session)\n",
    "if not os.path.exists(directory):\n",
    "    os.makedirs(directory)\n",
    "filename = os.path.join(directory, 'prediction.txt')\n",
    "np.savetxt(filename, predictions, delimiter=\"\\n\")\n",
    "print(\"Finished\")"
   ]
  },
  {
   "cell_type": "code",
   "execution_count": 45,
   "metadata": {},
   "outputs": [
    {
     "name": "stdout",
     "output_type": "stream",
     "text": [
      "1766/1766 [==============================] - 0s 36us/step\n"
     ]
    }
   ],
   "source": [
    "df_data_arm = pd.read_csv('TrainingDataB/Session16/armIMU.txt'.format(session), delim_whitespace=True, header=None)\n",
    "size = df_data_arm.shape[0]\n",
    "arm_features = generate_features(df_data_arm)\n",
    "df_data_wrist = pd.read_csv('TrainingDataB/Session16/wristIMU.txt'.format(session), delim_whitespace=True, header=None)\n",
    "wrist_features = generate_features(df_data_wrist)\n",
    "x_test = pd.concat([arm_features, wrist_features], axis=1, sort=False, ignore_index=True)\n",
    "x_test_df = x_test.to_numpy()\n",
    "X_test_reshaped = np.reshape(x_test_df, (x_test_df.shape[0], 1, x_test_df.shape[1]))\n",
    "predictions = loaded_model.predict_classes(X_test_reshaped, verbose=1)\n",
    "predictions = extrapolate_predictions(predictions, size)\n",
    "\n",
    "y_actual = pd.read_csv('TrainingDataB/Session16/detection.txt'.format(session), header=None)\n",
    "y_val = y_actual.to_numpy()\n"
   ]
  },
  {
   "cell_type": "code",
   "execution_count": 46,
   "metadata": {},
   "outputs": [
    {
     "name": "stdout",
     "output_type": "stream",
     "text": [
      "(88300,)\n",
      "(88354, 1)\n"
     ]
    },
    {
     "data": {
      "image/png": "[encoded data removed]",
      "text/plain": [
       "<matplotlib.figure.Figure at 0x1a31d1e320>"
      ]
     },
     "metadata": {},
     "output_type": "display_data"
    }
   ],
   "source": [
    "print(predictions.shape)\n",
    "print(y_val.shape)\n",
    "# summarize history for loss\n",
    "plt.plot(predictions, 'r.', markersize=22)\n",
    "plt.plot(y_val, 'b.')\n",
    "plt.title('Prediction vs Ground truth')\n",
    "plt.ylabel('Classes')\n",
    "plt.xlabel('Observations')\n",
    "plt.legend(['Prediction', 'Ground ruth'], loc='middle left')\n",
    "# plt.show()\n",
    "plt.savefig('pred_vs_gt.png')"
   ]
  },
  {
   "cell_type": "code",
   "execution_count": null,
   "metadata": {},
   "outputs": [],
   "source": []
  }
 ],
 "metadata": {
  "kernelspec": {
   "display_name": "Python 3",
   "language": "python",
   "name": "python3"
  },
  "language_info": {
   "codemirror_mode": {
    "name": "ipython",
    "version": 3
   },
   "file_extension": ".py",
   "mimetype": "text/x-python",
   "name": "python",
   "nbconvert_exporter": "python",
   "pygments_lexer": "ipython3",
   "version": "3.6.8"
  }
 },
 "nbformat": 4,
 "nbformat_minor": 2
}
