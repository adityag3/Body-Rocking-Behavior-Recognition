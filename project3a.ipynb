{
 "cells": [
  {
   "cell_type": "code",
   "execution_count": 1,
   "metadata": {},
   "outputs": [],
   "source": [
    "import pandas as pd\n",
    "import numpy as np\n",
    "from scipy.stats import kurtosis, skew\n",
    "from sklearn.svm import SVC\n",
    "from sklearn.metrics import accuracy_score\n",
    "from scipy.stats import mode\n",
    "import matplotlib.pyplot as plt\n",
    "import pickle\n",
    "import os"
   ]
  },
  {
   "cell_type": "code",
   "execution_count": 2,
   "metadata": {},
   "outputs": [],
   "source": [
    "matplotlib.use(\"TkAgg\")\n",
    "from sklearn.model_selection import train_test_split"
   ]
  },
  {
   "cell_type": "code",
   "execution_count": 3,
   "metadata": {},
   "outputs": [],
   "source": [
    "# Window Length.\n",
    "n = 100\n",
    "STRIDE = 50"
   ]
  },
  {
   "cell_type": "code",
   "execution_count": 4,
   "metadata": {},
   "outputs": [],
   "source": [
    "def getFeatures(data, fs):\n",
    "    f1 = np.mean(data, axis=0)\n",
    "    C = np.cov(data.T)\n",
    "    f2 = np.concatenate((C[0, 0:3], C[1, 1:3], C[2, 2:3]))\n",
    "    f3 = np.array([skew(data.iloc[:, 0]), skew(data.iloc[:, 1]), skew(data.iloc[:, 2])])\n",
    "    f4 = np.array([kurtosis(data.iloc[:, 0]), kurtosis(data.iloc[:, 1]), kurtosis(data.iloc[:, 2])])\n",
    "    f5 = np.zeros(3)\n",
    "    f6 = np.zeros(3)\n",
    "    for i in range(0,3):\n",
    "        g = abs(np.fft.fft(data.iloc[:,i]))\n",
    "        g = g[0:round(len(g)/2)]\n",
    "        g[0] = 0\n",
    "        max_i = np.argmax(g)\n",
    "        f5[i] = g[max_i]\n",
    "        f6[i] = fs * max_i\n",
    "    return np.concatenate((f1, f2, f3, f4, f5, f6))"
   ]
  },
  {
   "cell_type": "code",
   "execution_count": 5,
   "metadata": {},
   "outputs": [],
   "source": [
    "def generate_features(df, stride=STRIDE):\n",
    "    df_out = pd.DataFrame(columns=[i for i in range(0, 42)])\n",
    "    fs = 1 / n\n",
    "    i = 0\n",
    "    for i in range(0, df.shape[0] - n, stride):\n",
    "        features_accel = getFeatures(df.iloc[i:i+n, 0:3], fs)\n",
    "        features_gyro = getFeatures(df.iloc[i:i+n, 3:6], fs)\n",
    "        features = np.concatenate((features_accel, features_gyro))\n",
    "        df_out.loc[i] = features\n",
    "        i += 1\n",
    "    return df_out"
   ]
  },
  {
   "cell_type": "code",
   "execution_count": 6,
   "metadata": {},
   "outputs": [],
   "source": [
    "# Choose via MODE ## TBD ##\n",
    "def get_detection_window(df, stride=STRIDE):\n",
    "    df_out = pd.DataFrame(columns=[0])\n",
    "    i = 0\n",
    "    for i in range(0, df.shape[0] - n, stride):\n",
    "        df_slice = df.iloc[i:i+n,:]\n",
    "        df_out.loc[i] = df_slice.mode().iloc[0,0]\n",
    "#         df_out.loc[i] = df.iloc[i+n-1]\n",
    "        i += 1\n",
    "    return df_out"
   ]
  },
  {
   "cell_type": "code",
   "execution_count": 7,
   "metadata": {},
   "outputs": [],
   "source": [
    "def extrapolate_predictions(predictions, size):\n",
    "    extrapolated = np.fromiter((val for val in predictions for _ in range(0, STRIDE)), float)\n",
    "    return extrapolated[0:size]"
   ]
  },
  {
   "cell_type": "code",
   "execution_count": 8,
   "metadata": {},
   "outputs": [],
   "source": [
    "def read_test_data(session):\n",
    "    df_data_arm = pd.read_csv('test_data/{}/armIMU.txt'.format(session), delim_whitespace=True, header=None)\n",
    "    print('debug_read_data_1')\n",
    "    size = df_data_arm.shape[0]\n",
    "    print('debug_read_data_2')\n",
    "    arm_features = generate_features(df_data_arm, stride=1)\n",
    "    print('debug_read_data_3')\n",
    "    df_data_wrist = pd.read_csv('test_data/{}/wristIMU.txt'.format(session), delim_whitespace=True, header=None)\n",
    "    print('debug_read_data_4')\n",
    "    wrist_features = generate_features(df_data_wrist, stride=1)\n",
    "    print('debug_read_data_5')\n",
    "#     df_data_detection = pd.read_csv('test_data/{}/detection.txt', header=None)\n",
    "#     df_data_detection = get_detection_window(df_data_detection, stride=1)\n",
    "    zero_padding = pd.DataFrame(np.zeros(n))\n",
    "    print('debug_read_data_6')\n",
    "    return size, pd.concat([arm_features, wrist_features], axis=1, sort=False, ignore_index=True)"
   ]
  },
  {
   "cell_type": "code",
   "execution_count": 9,
   "metadata": {},
   "outputs": [],
   "source": [
    "def train_model(x_val,y_val):\n",
    "    x_train, x_test, y_train, y_test = train_test_split( x_val, y_val, test_size=0.2, random_state=42)\n",
    "    clf = SVC(gamma='auto')\n",
    "    clf.fit(x_train, y_train)\n",
    "    \n",
    "    # Save the model.\n",
    "    filename = 'finalized_model.sav'\n",
    "    pickle.dump(clf, open(filename, 'wb'))\n",
    "    \n",
    "    predictions = clf.predict(x_test)\n",
    "    score = accuracy_score(y_test, predictions)\n",
    "    print('The Validation accuracy score of the model {}'.format(score))"
   ]
  },
  {
   "cell_type": "code",
   "execution_count": 10,
   "metadata": {},
   "outputs": [
    {
     "name": "stdout",
     "output_type": "stream",
     "text": [
      "Processing Session01\n",
      "Processing Session05\n",
      "Processing Session06\n",
      "Processing Session07\n",
      "Processing Session12\n",
      "Processing Session13\n"
     ]
    }
   ],
   "source": [
    "sessions = ['Session01', 'Session05', 'Session06', 'Session07', 'Session12', 'Session13']\n",
    "# Initializing dataframes for training\n",
    "x_train = pd.DataFrame(columns=[i for i in range(0, 84)])\n",
    "y_train = pd.DataFrame(columns=[0])\n",
    "\n",
    "for session in sessions:\n",
    "    print('Processing {}'.format(session))\n",
    "    df_data_arm = pd.read_csv('TrainingData/{}/armIMU.txt'.format(session),  delim_whitespace=True, header=None)\n",
    "    arm_features = generate_features(df_data_arm)\n",
    "    df_data_wrist = pd.read_csv('TrainingData/{}/wristIMU.txt'.format(session), delim_whitespace=True, header=None)\n",
    "    wrist_features = generate_features(df_data_wrist)\n",
    "    features = pd.concat([arm_features, wrist_features], axis=1, sort=False, ignore_index=True)\n",
    "    df_data_detection = pd.read_csv('TrainingData/{}/detection.txt'.format(session), header=None)\n",
    "    x_train = x_train.append(other=features, ignore_index=True)\n",
    "    y_train = y_train.append(other=get_detection_window(df_data_detection), ignore_index=True)\n"
   ]
  },
  {
   "cell_type": "code",
   "execution_count": 11,
   "metadata": {},
   "outputs": [
    {
     "name": "stdout",
     "output_type": "stream",
     "text": [
      "The Validation accuracy score of the model 0.7065981611681991\n"
     ]
    }
   ],
   "source": [
    "train_model(x_train, y_train.values.ravel())"
   ]
  },
  {
   "cell_type": "code",
   "execution_count": 12,
   "metadata": {},
   "outputs": [
    {
     "name": "stdout",
     "output_type": "stream",
     "text": [
      "Load this model: finalized_model.sav\n",
      "Testing this session: Session02\n",
      "debug_read_data_1\n",
      "debug_read_data_2\n",
      "debug_read_data_3\n",
      "debug_read_data_4\n",
      "debug_read_data_5\n",
      "debug_read_data_6\n",
      "Debug 1\n",
      "Debug 2\n",
      "Debug 3\n",
      "Finished\n",
      "Testing this session: Session03\n",
      "debug_read_data_1\n",
      "debug_read_data_2\n",
      "debug_read_data_3\n",
      "debug_read_data_4\n",
      "debug_read_data_5\n",
      "debug_read_data_6\n",
      "Debug 1\n",
      "Debug 2\n",
      "Debug 3\n",
      "Finished\n",
      "Testing this session: Session15\n",
      "debug_read_data_1\n",
      "debug_read_data_2\n",
      "debug_read_data_3\n",
      "debug_read_data_4\n",
      "debug_read_data_5\n",
      "debug_read_data_6\n",
      "Debug 1\n",
      "Debug 2\n",
      "Debug 3\n",
      "Finished\n",
      "Testing this session: Session16\n",
      "debug_read_data_1\n",
      "debug_read_data_2\n",
      "debug_read_data_3\n",
      "debug_read_data_4\n",
      "debug_read_data_5\n",
      "debug_read_data_6\n",
      "Debug 1\n",
      "Debug 2\n",
      "Debug 3\n",
      "Finished\n"
     ]
    }
   ],
   "source": [
    "# Prediction\n",
    "test_sessions = ['Session02', 'Session03', 'Session15', 'Session16']\n",
    "filename = 'finalized_model.sav'\n",
    "print(\"Load this model: {}\".format(filename))\n",
    "clf = pickle.load(open(filename, 'rb'))\n",
    "for session in test_sessions:\n",
    "    print(\"Predicting this session: {}\".format(session))\n",
    "    size, x_test = read_test_data(session)\n",
    "    print(\"Debug 1\")\n",
    "    predictions = clf.predict(x_test)\n",
    "    print(\"Debug 2\")\n",
    "    predictions = extrapolate_predictions(predictions, size)\n",
    "    print(\"Debug 3\")\n",
    "    directory = 'sample/{}'.format(session)\n",
    "    if not os.path.exists(directory):\n",
    "        os.makedirs(directory)\n",
    "    filename = os.path.join(directory, 'prediction.txt')\n",
    "    np.savetxt(filename, predictions, delimiter=\"\\n\")\n",
    "    print(\"Finished\")"
   ]
  },
  {
   "cell_type": "code",
   "execution_count": null,
   "metadata": {},
   "outputs": [],
   "source": [
    "    "
   ]
  }
 ],
 "metadata": {
  "kernelspec": {
   "display_name": "Python 3",
   "language": "python",
   "name": "python3"
  },
  "language_info": {
   "codemirror_mode": {
    "name": "ipython",
    "version": 3
   },
   "file_extension": ".py",
   "mimetype": "text/x-python",
   "name": "python",
   "nbconvert_exporter": "python",
   "pygments_lexer": "ipython3",
   "version": "3.6.8"
  }
 },
 "nbformat": 4,
 "nbformat_minor": 2
}
